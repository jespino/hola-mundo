{
 "cells": [
  {
   "cell_type": "markdown",
   "metadata": {},
   "source": [
    "# Hola Mundo: Desde el fichero a la pantalla"
   ]
  },
  {
   "cell_type": "markdown",
   "metadata": {},
   "source": [
    "## ¿Quién soy yo?\n",
    "\n",
    "* Jesús Espino \n",
    "  * Twitter: @jespinog\n",
    "  * Github: http://github.com/jespino\n",
    "  * Email: jespinog@gmail.com\n",
    "* Desarrollador en:\n",
    "  <img src=\"http://www.bokzuy.com/images/logo_kaleidos_big.png\" width=\"200\"> <img src=\"http://kaleidos.net/media/filer_public_thumbnails/filer_public/e5/14/e514887a-d582-44f6-9503-a892cd26a619/taiga-logo.jpg__300x300_q85_subsampling-2.jpg\" width=\"200\">"
   ]
  },
  {
   "cell_type": "markdown",
   "metadata": {},
   "source": [
    "## ¿De que vamos a hablar?\n",
    "* Compiladores\n",
    "* Interpretes\n",
    "* Python\n",
    "* Hola Mundo"
   ]
  },
  {
   "cell_type": "markdown",
   "metadata": {},
   "source": [
    "## ¿Qué es un compilador?\n",
    "* Convierte un código fuente en codigo ejecutable por una maquina\n",
    "* Normalmente se divide en varias fases (analisis lexico, analisis sintactico, construcción de arbol abstracto, generación de código maquina)"
   ]
  },
  {
   "cell_type": "markdown",
   "metadata": {},
   "source": [
    "## ¿Qué es un interprete?\n",
    "* Lee un código fuente, y lo interpreta directamente.\n",
    "* Va leyendo y ejecutando el código tal cual."
   ]
  },
  {
   "cell_type": "markdown",
   "metadata": {},
   "source": [
    "## ¿Que es python?\n",
    "* ¿Es interpretado?\n",
    "* ¿Es compilado?\n",
    "\n",
    "<br />\n",
    "<br />\n",
    "<br />\n",
    "<br />\n",
    "<br />\n",
    "<br />\n",
    "<br />\n",
    "<br />\n",
    "<br />\n",
    "<br />"
   ]
  },
  {
   "cell_type": "markdown",
   "metadata": {},
   "source": [
    "## Ambas cosas\n",
    "\n",
    "* Python compila el código a ByteCode\n",
    "* El ByteCode es un código que interpreta la \"Maquina Virtual\" de python."
   ]
  },
  {
   "cell_type": "markdown",
   "metadata": {},
   "source": [
    "## Y ¿cómo lo hace?\n",
    "![](compiler-graph.jpg)"
   ]
  },
  {
   "cell_type": "markdown",
   "metadata": {},
   "source": [
    "## Hola Mundo: Del fichero a la pantalla"
   ]
  },
  {
   "cell_type": "code",
   "execution_count": 1,
   "metadata": {
    "collapsed": false
   },
   "outputs": [
    {
     "name": "stdout",
     "output_type": "stream",
     "text": [
      "def holamundo(name=\"mundo\"):\n",
      "    print(\"Hola {}\".format(name))\n",
      "\n",
      "holamundo(\"test\")\n",
      "\n"
     ]
    }
   ],
   "source": [
    "source_code = open(\"holamundo.py\", \"r\").read()\n",
    "print(source_code)"
   ]
  },
  {
   "cell_type": "code",
   "execution_count": 2,
   "metadata": {
    "collapsed": false
   },
   "outputs": [
    {
     "name": "stdout",
     "output_type": "stream",
     "text": [
      "Hola test\n",
      "Hola mundo\n"
     ]
    }
   ],
   "source": [
    "import holamundo\n",
    "holamundo.holamundo()"
   ]
  },
  {
   "cell_type": "markdown",
   "metadata": {},
   "source": [
    "## El resultado del compilador\n",
    "\n",
    "* El compilador genera ByteCode, veamos como"
   ]
  },
  {
   "cell_type": "code",
   "execution_count": 3,
   "metadata": {
    "collapsed": false
   },
   "outputs": [
    {
     "name": "stdout",
     "output_type": "stream",
     "text": [
      "<class 'code'>\n",
      "b'd\\x00\\x00d\\x01\\x00d\\x02\\x00\\x84\\x01\\x00Z\\x00\\x00e\\x00\\x00d\\x03\\x00\\x83\\x01\\x00\\x01d\\x04\\x00S'\n",
      "[100, 0, 0, 100, 1, 0, 100, 2, 0, 132, 1, 0, 90, 0, 0, 101, 0, 0, 100, 3, 0, 131, 1, 0, 1, 100, 4, 0, 83]\n",
      "6400006401006402008401005a00006500006403008301000164040053\n"
     ]
    }
   ],
   "source": [
    "c = compile(source_code, filename=\"holamundo.py\", mode=\"exec\")\n",
    "print(type(c))\n",
    "print(c.co_code)\n",
    "print([b for b in bytes(c.co_code)])\n",
    "print(c.co_code.hex())"
   ]
  },
  {
   "cell_type": "markdown",
   "metadata": {},
   "source": [
    "## ¿Pero que demonios significa esto?\n",
    "\n",
    " * https://github.com/python/cpython/blob/3.6/Include/opcode.h\n",
    " * https://github.com/python/cpython/blob/3.6/Python/ceval.c#L1220"
   ]
  },
  {
   "cell_type": "markdown",
   "metadata": {},
   "source": [
    "## ¿En serio? ¿Código fuente?\n",
    "\n",
    "* Vaaaale... si lo prefieres tambien hay documentación:\n",
    "  * https://docs.python.org/3.6/library/dis.html#python-bytecode-instructions"
   ]
  },
  {
   "cell_type": "markdown",
   "metadata": {},
   "source": [
    "## Vamos a leerlo un poco mejor"
   ]
  },
  {
   "cell_type": "code",
   "execution_count": 4,
   "metadata": {
    "collapsed": false
   },
   "outputs": [
    {
     "name": "stdout",
     "output_type": "stream",
     "text": [
      "  1           0 LOAD_CONST               0 ('mundo')\n",
      "              3 LOAD_CONST               1 (<code object holamundo at 0x7f2b742d6a50, file \"holamundo.py\", line 1>)\n",
      "              6 LOAD_CONST               2 ('holamundo')\n",
      "              9 MAKE_FUNCTION            1\n",
      "             12 STORE_NAME               0 (holamundo)\n",
      "\n",
      "  4          15 LOAD_NAME                0 (holamundo)\n",
      "             18 LOAD_CONST               3 ('test')\n",
      "             21 CALL_FUNCTION            1 (1 positional, 0 keyword pair)\n",
      "             24 POP_TOP\n",
      "             25 LOAD_CONST               4 (None)\n",
      "             28 RETURN_VALUE\n"
     ]
    }
   ],
   "source": [
    "import dis\n",
    "dis.dis(c)"
   ]
  },
  {
   "cell_type": "code",
   "execution_count": 5,
   "metadata": {
    "collapsed": false
   },
   "outputs": [
    {
     "name": "stdout",
     "output_type": "stream",
     "text": [
      "<class 'function'>\n",
      "<class 'code'>\n",
      "b't\\x00\\x00d\\x01\\x00j\\x01\\x00|\\x00\\x00\\x83\\x01\\x00\\x83\\x01\\x00\\x01d\\x00\\x00S'\n",
      "[116, 0, 0, 100, 1, 0, 106, 1, 0, 124, 0, 0, 131, 1, 0, 131, 1, 0, 1, 100, 0, 0, 83]\n",
      "7400006401006a01007c00008301008301000164000053\n"
     ]
    }
   ],
   "source": [
    "print(type(holamundo.holamundo))\n",
    "print(type(holamundo.holamundo.__code__))\n",
    "print(holamundo.holamundo.__code__.co_code)\n",
    "print([b for b in bytes(holamundo.holamundo.__code__.co_code)])\n",
    "print(holamundo.holamundo.__code__.co_code.hex())"
   ]
  },
  {
   "cell_type": "code",
   "execution_count": 6,
   "metadata": {
    "collapsed": false
   },
   "outputs": [
    {
     "name": "stdout",
     "output_type": "stream",
     "text": [
      "  2           0 LOAD_GLOBAL              0 (print)\n",
      "              3 LOAD_CONST               1 ('Hola {}')\n",
      "              6 LOAD_ATTR                1 (format)\n",
      "              9 LOAD_FAST                0 (name)\n",
      "             12 CALL_FUNCTION            1 (1 positional, 0 keyword pair)\n",
      "             15 CALL_FUNCTION            1 (1 positional, 0 keyword pair)\n",
      "             18 POP_TOP\n",
      "             19 LOAD_CONST               0 (None)\n",
      "             22 RETURN_VALUE\n"
     ]
    }
   ],
   "source": [
    "dis.dis(holamundo.holamundo)"
   ]
  },
  {
   "cell_type": "markdown",
   "metadata": {},
   "source": [
    "## Y ¿Como lo ejecuto?\n",
    "\n",
    "* Usando `exec` o `eval`\n",
    "* `exec` ejecuta un bloque de código y no devuelve resultado\n",
    "* `eval` ejecuta una expresion y devuelve resultado"
   ]
  },
  {
   "cell_type": "code",
   "execution_count": 9,
   "metadata": {
    "collapsed": false
   },
   "outputs": [
    {
     "name": "stdout",
     "output_type": "stream",
     "text": [
      "Hola test\n"
     ]
    },
    {
     "ename": "AttributeError",
     "evalue": "'function' object has no attribute 'holamundo'",
     "output_type": "error",
     "traceback": [
      "\u001b[0;31m---------------------------------------------------------------------------\u001b[0m",
      "\u001b[0;31mAttributeError\u001b[0m                            Traceback (most recent call last)",
      "\u001b[0;32m<ipython-input-9-12772a901a62>\u001b[0m in \u001b[0;36m<module>\u001b[0;34m()\u001b[0m\n\u001b[1;32m      1\u001b[0m \u001b[0mexec\u001b[0m\u001b[0;34m(\u001b[0m\u001b[0mc\u001b[0m\u001b[0;34m)\u001b[0m\u001b[0;34m\u001b[0m\u001b[0m\n\u001b[0;32m----> 2\u001b[0;31m \u001b[0mholamundo\u001b[0m\u001b[0;34m.\u001b[0m\u001b[0mholamundo\u001b[0m\u001b[0;34m(\u001b[0m\u001b[0;34m)\u001b[0m\u001b[0;34m\u001b[0m\u001b[0m\n\u001b[0m",
      "\u001b[0;31mAttributeError\u001b[0m: 'function' object has no attribute 'holamundo'"
     ]
    }
   ],
   "source": [
    "exec(c)\n",
    "holamundo.holamundo()"
   ]
  },
  {
   "cell_type": "markdown",
   "metadata": {},
   "source": [
    "## Pero ¿cómo llego hasta aquí?\n",
    "\n",
    "* El compilado se divide principalmente en 5 fases:\n",
    "    * Tokenizado.\n",
    "    * Construcción del arbol sintaction (parseado).\n",
    "    * Construcción del arbol sintaction abstracto (AST).\n",
    "    * Construcción de la tabla de simbolos.\n",
    "    * Traducción a ByteCode."
   ]
  },
  {
   "cell_type": "markdown",
   "metadata": {},
   "source": [
    "## El primer paso: Tokenizado\n",
    "\n",
    "El primer paso es el tokenizado del codigo, que divide y etiqueta cada uno de los elementos de nuestro codigo para luego ser procesados."
   ]
  },
  {
   "cell_type": "code",
   "execution_count": null,
   "metadata": {
    "collapsed": false
   },
   "outputs": [],
   "source": [
    "import tokenize\n",
    "\n",
    "tokens = tokenize.tokenize(open('holamundo.py', \"rb\").readline)\n",
    "print(\"\\n\".join([str(token) for token in tokens]))"
   ]
  },
  {
   "cell_type": "markdown",
   "metadata": {},
   "source": [
    "### ¿Donde ocurre la magia?\n",
    "\n",
    "* https://github.com/python/cpython/blob/3.6/Parser/tokenizer.c#L1363\n",
    "\n",
    "* pgen genera el código necesario para la gramatica\n",
    "* asdl_c.py genera el codigo necesario para la generación del AST"
   ]
  },
  {
   "cell_type": "markdown",
   "metadata": {},
   "source": [
    "## Segundo paso: Analisis sintactico\n",
    "Tras el tokenizado se realiza el analisis sintactico, que organiza nuestros tokens en un Syntax-Tree"
   ]
  },
  {
   "cell_type": "code",
   "execution_count": null,
   "metadata": {
    "collapsed": false
   },
   "outputs": [],
   "source": [
    "import parser\n",
    "st = parser.suite(source_code)\n",
    "st.totuple()"
   ]
  },
  {
   "cell_type": "markdown",
   "metadata": {},
   "source": [
    "Podemos verlo un poco mejor si traducimos los IDS a Tokens y Simbolos"
   ]
  },
  {
   "cell_type": "code",
   "execution_count": null,
   "metadata": {
    "collapsed": false
   },
   "outputs": [],
   "source": [
    "import stpp\n",
    "stpp.stpp(st)"
   ]
  },
  {
   "cell_type": "code",
   "execution_count": null,
   "metadata": {
    "collapsed": false
   },
   "outputs": [],
   "source": [
    "mod = st.compile()\n",
    "exec(mod)\n",
    "holamundo()"
   ]
  },
  {
   "cell_type": "markdown",
   "metadata": {},
   "source": [
    "### ¿Donde ocurre la magia?\n",
    "\n",
    "* pgen genera el código necesario para la gramatica:\n",
    "  * https://github.com/python/cpython/blob/3.6/Grammar/Grammar\n",
    "* https://github.com/python/cpython/blob/3.6/Parser/parsetok.c#L183"
   ]
  },
  {
   "cell_type": "markdown",
   "metadata": {},
   "source": [
    "## Tercer paso: Analisis semantico\n",
    "Tras la construcción del analisis sintactico se hace el analisis semantico y se construye un Abstract-Syntax-Tree"
   ]
  },
  {
   "cell_type": "code",
   "execution_count": 17,
   "metadata": {
    "collapsed": false
   },
   "outputs": [
    {
     "name": "stdout",
     "output_type": "stream",
     "text": [
      "Module(body=[FunctionDef(name='holamundo', args=arguments(args=[arg(arg='name', annotation=None)], vararg=None, kwonlyargs=[], kw_defaults=[], kwarg=None, defaults=[Str(s='mundo')]), body=[Expr(value=Call(func=Name(id='print', ctx=Load()), args=[Call(func=Attribute(value=Str(s='Hola {}'), attr='format', ctx=Load()), args=[Name(id='name', ctx=Load())], keywords=[])], keywords=[]))], decorator_list=[], returns=None), Expr(value=Call(func=Name(id='holamundo', ctx=Load()), args=[Str(s='test')], keywords=[]))])\n"
     ]
    }
   ],
   "source": [
    "import ast\n",
    "x = ast.parse(source_code)\n",
    "rint(ast.dump(x))"
   ]
  },
  {
   "cell_type": "code",
   "execution_count": 16,
   "metadata": {
    "collapsed": false
   },
   "outputs": [
    {
     "name": "stdout",
     "output_type": "stream",
     "text": [
      "Module(body=[\n",
      "    FunctionDef(name='holamundo', args=arguments(args=[\n",
      "        arg(arg='name', annotation=None),\n",
      "      ], vararg=None, kwonlyargs=[], kw_defaults=[], kwarg=None, defaults=[\n",
      "        Str(s='mundo'),\n",
      "      ]), body=[\n",
      "        Expr(value=Call(func=Name(id='print', ctx=Load()), args=[\n",
      "            Call(func=Attribute(value=Str(s='Hola {}'), attr='format', ctx=Load()), args=[\n",
      "                Name(id='name', ctx=Load()),\n",
      "              ], keywords=[]),\n",
      "          ], keywords=[])),\n",
      "      ], decorator_list=[], returns=None),\n",
      "    Expr(value=Call(func=Name(id='holamundo', ctx=Load()), args=[\n",
      "        Str(s='test'),\n",
      "      ], keywords=[])),\n",
      "  ])\n",
      "[<_ast.FunctionDef object at 0x7f2b74200278>, <_ast.Expr object at 0x7f2b74277940>]\n"
     ]
    }
   ],
   "source": [
    "import astpp\n",
    "print(astpp.dump(ast.parse(source_code)))"
   ]
  },
  {
   "cell_type": "code",
   "execution_count": 8,
   "metadata": {
    "collapsed": false
   },
   "outputs": [
    {
     "name": "stdout",
     "output_type": "stream",
     "text": [
      " <SymbolTable for top in holamundo.py>\n",
      "   <symbol 'holamundo'>\n",
      "   <Function SymbolTable for holamundo in holamundo.py>\n",
      "     <symbol 'name'>\n",
      "     <symbol 'print'>\n"
     ]
    }
   ],
   "source": [
    "import symtable\n",
    "import symtablepp\n",
    "table = symtable.symtable(source_code, filename=\"holamundo.py\", compile_type=\"exec\")\n",
    "symtablepp.symtablepp(table)"
   ]
  },
  {
   "cell_type": "markdown",
   "metadata": {},
   "source": [
    "### ¿Donde ocurre la magia?\n",
    "\n",
    "* asdl_c.py genera el codigo necesario para la generación del AST:\n",
    "  * https://github.com/python/cpython/blob/3.6/Parser/Python.asdl\n",
    "* https://github.com/python/cpython/blob/3.6/Python/ast.c#L761"
   ]
  },
  {
   "cell_type": "markdown",
   "metadata": {},
   "source": [
    "## Resumen\n",
    "![](compiler-graph.jpg)"
   ]
  },
  {
   "cell_type": "markdown",
   "metadata": {},
   "source": [
    "## Dudas"
   ]
  }
 ],
 "metadata": {
  "kernelspec": {
   "display_name": "Python 3",
   "language": "python",
   "name": "python3"
  },
  "language_info": {
   "codemirror_mode": {
    "name": "ipython",
    "version": 3
   },
   "file_extension": ".py",
   "mimetype": "text/x-python",
   "name": "python",
   "nbconvert_exporter": "python",
   "pygments_lexer": "ipython3",
   "version": "3.5.2"
  }
 },
 "nbformat": 4,
 "nbformat_minor": 0
}
