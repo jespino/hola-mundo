{
 "cells": [
  {
   "cell_type": "markdown",
   "metadata": {},
   "source": [
    "# Hola Mundo: Desde el fichero a la pantalla"
   ]
  },
  {
   "cell_type": "markdown",
   "metadata": {},
   "source": [
    "## ¿Quién soy yo?\n",
    "\n",
    "* Jesús Espino \n",
    "\n",
    "  * Twitter: @jespinog\n",
    "  * Github: http://github.com/jespino\n",
    "  * Email: jespinog@gmail.com\n",
    "  \n",
    "* Desarrollador en:\n",
    "\n",
    "  <img src=\"http://www.bokzuy.com/images/logo_kaleidos_big.png\" width=\"200\" /> <img src=\"http://kaleidos.net/media/filer_public_thumbnails/filer_public/e5/14/e514887a-d582-44f6-9503-a892cd26a619/taiga-logo.jpg__300x300_q85_subsampling-2.jpg\" width=\"200\" />"
   ]
  },
  {
   "cell_type": "markdown",
   "metadata": {},
   "source": [
    "## ¿De que vamos a hablar?\n",
    "* Compiladores\n",
    "* Interpretes\n",
    "* Python\n",
    "* Hola Mundo"
   ]
  },
  {
   "cell_type": "markdown",
   "metadata": {},
   "source": [
    "## ¿Qué es un compilador?\n",
    "* Convierte un código fuente en codigo ejecutable por una maquina\n",
    "* Normalmente se divide en varias fases (analisis lexico, analisis sintactico, construcción de arbol abstracto, generación de código maquina)"
   ]
  },
  {
   "cell_type": "markdown",
   "metadata": {},
   "source": [
    "## ¿Qué es un interprete?\n",
    "* Lee un código fuente, y lo interpreta directamente.\n",
    "* Va leyendo y ejecutando el código tal cual."
   ]
  },
  {
   "cell_type": "markdown",
   "metadata": {},
   "source": [
    "## ¿Que es python?\n",
    "* ¿Es interpretado?\n",
    "* ¿Es compilado?\n",
    "\n",
    "<br />\n",
    "<br />\n",
    "<br />\n",
    "<br />\n",
    "<br />\n",
    "<br />\n",
    "<br />\n",
    "<br />\n",
    "<br />\n",
    "<br />"
   ]
  },
  {
   "cell_type": "markdown",
   "metadata": {},
   "source": [
    "## Ambas cosas\n",
    "\n",
    "* Python compila el código a ByteCode\n",
    "* El ByteCode es un código que interpreta la \"Maquina Virtual\" de python."
   ]
  },
  {
   "cell_type": "markdown",
   "metadata": {},
   "source": [
    "## Y ¿cómo lo hace?\n",
    "![](compiler-graph.jpg)"
   ]
  },
  {
   "cell_type": "markdown",
   "metadata": {},
   "source": [
    "##  Un paseo por el código de Python\n",
    "\n",
    "* https://github.com/python/cpython/tree/3.6/"
   ]
  },
  {
   "cell_type": "markdown",
   "metadata": {},
   "source": [
    "## Hola Mundo: Del fichero a la pantalla"
   ]
  },
  {
   "cell_type": "code",
   "execution_count": null,
   "metadata": {
    "collapsed": false
   },
   "outputs": [],
   "source": [
    "source_code = open(\"holamundo.py\", \"r\").read()\n",
    "print(source_code)"
   ]
  },
  {
   "cell_type": "code",
   "execution_count": null,
   "metadata": {
    "collapsed": false
   },
   "outputs": [],
   "source": [
    "import holamundo\n",
    "holamundo.holamundo()"
   ]
  },
  {
   "cell_type": "markdown",
   "metadata": {},
   "source": [
    "## El resultado del compilador\n",
    "\n",
    "* El compilador genera ByteCode, veamos como"
   ]
  },
  {
   "cell_type": "code",
   "execution_count": null,
   "metadata": {
    "collapsed": false
   },
   "outputs": [],
   "source": [
    "c = compile(source_code, filename=\"holamundo.py\", mode=\"exec\")\n",
    "print(type(c))\n",
    "print(c.co_code)\n",
    "print([b for b in bytes(c.co_code)])\n",
    "print(c.co_code.hex())"
   ]
  },
  {
   "cell_type": "markdown",
   "metadata": {},
   "source": [
    "## ¿Pero que demonios significa esto?\n",
    "\n",
    " * https://github.com/python/cpython/blob/3.6/Include/opcode.h\n",
    " * https://github.com/python/cpython/blob/3.6/Python/ceval.c#L1220"
   ]
  },
  {
   "cell_type": "markdown",
   "metadata": {},
   "source": [
    "## ¿En serio? ¿Código fuente?\n",
    "\n",
    "* Vaaaale... si lo prefieres tambien hay documentación:\n",
    "  * https://docs.python.org/3.6/library/dis.html#python-bytecode-instructions"
   ]
  },
  {
   "cell_type": "markdown",
   "metadata": {},
   "source": [
    "## Vamos a leerlo un poco mejor"
   ]
  },
  {
   "cell_type": "code",
   "execution_count": null,
   "metadata": {
    "collapsed": false
   },
   "outputs": [],
   "source": [
    "import dis\n",
    "dis.dis(c)"
   ]
  },
  {
   "cell_type": "code",
   "execution_count": null,
   "metadata": {
    "collapsed": false
   },
   "outputs": [],
   "source": [
    "print(type(holamundo.holamundo))\n",
    "print(type(holamundo.holamundo.__code__))\n",
    "print(holamundo.holamundo.__code__.co_code)\n",
    "print([b for b in bytes(holamundo.holamundo.__code__.co_code)])\n",
    "print(holamundo.holamundo.__code__.co_code.hex())"
   ]
  },
  {
   "cell_type": "code",
   "execution_count": null,
   "metadata": {
    "collapsed": false
   },
   "outputs": [],
   "source": [
    "dis.dis(holamundo.holamundo)"
   ]
  },
  {
   "cell_type": "markdown",
   "metadata": {},
   "source": [
    "## Y ¿Como lo ejecuto?\n",
    "\n",
    "* Usando `exec` o `eval`\n",
    "* `exec` ejecuta un bloque de código y no devuelve resultado\n",
    "* `eval` ejecuta una expresion y devuelve resultado"
   ]
  },
  {
   "cell_type": "code",
   "execution_count": null,
   "metadata": {
    "collapsed": false
   },
   "outputs": [],
   "source": [
    "exec(c)\n",
    "holamundo.holamundo()"
   ]
  },
  {
   "cell_type": "markdown",
   "metadata": {},
   "source": [
    "## Pero ¿cómo llego hasta aquí?\n",
    "\n",
    "* El compilado se divide principalmente en 5 fases:\n",
    "    * Tokenizado.\n",
    "    * Construcción del arbol sintaction (parseado).\n",
    "    * Construcción del arbol sintaction abstracto (AST).\n",
    "    * Construcción de la tabla de simbolos.\n",
    "    * Traducción a ByteCode."
   ]
  },
  {
   "cell_type": "markdown",
   "metadata": {},
   "source": [
    "## El primer paso: Tokenizado\n",
    "\n",
    "El primer paso es el tokenizado del codigo, que divide y etiqueta cada uno de los elementos de nuestro codigo para luego ser procesados."
   ]
  },
  {
   "cell_type": "code",
   "execution_count": null,
   "metadata": {
    "collapsed": false
   },
   "outputs": [],
   "source": [
    "import tokenize\n",
    "\n",
    "tokens = tokenize.tokenize(open('holamundo.py', \"rb\").readline)\n",
    "print(\"\\n\".join([str(token) for token in tokens]))"
   ]
  },
  {
   "cell_type": "markdown",
   "metadata": {},
   "source": [
    "### ¿Donde ocurre la magia?\n",
    "\n",
    "* https://github.com/python/cpython/blob/3.6/Parser/tokenizer.c#L1363\n",
    "\n",
    "* pgen genera el código necesario para la gramatica\n",
    "* asdl_c.py genera el codigo necesario para la generación del AST"
   ]
  },
  {
   "cell_type": "markdown",
   "metadata": {},
   "source": [
    "## Segundo paso: Analisis sintactico\n",
    "Tras el tokenizado se realiza el analisis sintactico, que organiza nuestros tokens en un Syntax-Tree"
   ]
  },
  {
   "cell_type": "code",
   "execution_count": null,
   "metadata": {
    "collapsed": false
   },
   "outputs": [],
   "source": [
    "import parser\n",
    "st = parser.suite(source_code)\n",
    "st.totuple()"
   ]
  },
  {
   "cell_type": "markdown",
   "metadata": {},
   "source": [
    "Podemos verlo un poco mejor si traducimos los IDS a Tokens y Simbolos"
   ]
  },
  {
   "cell_type": "code",
   "execution_count": null,
   "metadata": {
    "collapsed": false
   },
   "outputs": [],
   "source": [
    "import stpp\n",
    "stpp.stpp(st)"
   ]
  },
  {
   "cell_type": "code",
   "execution_count": null,
   "metadata": {
    "collapsed": false
   },
   "outputs": [],
   "source": [
    "mod = st.compile()\n",
    "exec(mod)\n",
    "holamundo()"
   ]
  },
  {
   "cell_type": "markdown",
   "metadata": {},
   "source": [
    "### ¿Donde ocurre la magia?\n",
    "\n",
    "* pgen genera el código necesario para la gramatica:\n",
    "  * https://github.com/python/cpython/blob/3.6/Grammar/Grammar\n",
    "* https://github.com/python/cpython/blob/3.6/Parser/parsetok.c#L183"
   ]
  },
  {
   "cell_type": "markdown",
   "metadata": {},
   "source": [
    "## Tercer paso: Analisis semantico\n",
    "Tras la construcción del analisis sintactico se hace el analisis semantico y se construye un Abstract-Syntax-Tree"
   ]
  },
  {
   "cell_type": "code",
   "execution_count": null,
   "metadata": {
    "collapsed": false
   },
   "outputs": [],
   "source": [
    "import ast\n",
    "x = ast.parse(source_code)\n",
    "rint(ast.dump(x))"
   ]
  },
  {
   "cell_type": "code",
   "execution_count": null,
   "metadata": {
    "collapsed": false
   },
   "outputs": [],
   "source": [
    "import astpp\n",
    "print(astpp.dump(ast.parse(source_code)))"
   ]
  },
  {
   "cell_type": "code",
   "execution_count": null,
   "metadata": {
    "collapsed": false
   },
   "outputs": [],
   "source": [
    "import symtable\n",
    "import symtablepp\n",
    "table = symtable.symtable(source_code, filename=\"holamundo.py\", compile_type=\"exec\")\n",
    "symtablepp.symtablepp(table)"
   ]
  },
  {
   "cell_type": "markdown",
   "metadata": {},
   "source": [
    "### ¿Donde ocurre la magia?\n",
    "\n",
    "* asdl_c.py genera el codigo necesario para la generación del AST:\n",
    "  * https://github.com/python/cpython/blob/3.6/Parser/Python.asdl\n",
    "* https://github.com/python/cpython/blob/3.6/Python/ast.c#L761"
   ]
  },
  {
   "cell_type": "markdown",
   "metadata": {},
   "source": [
    "## Resumen\n",
    "![](compiler-graph.jpg)"
   ]
  },
  {
   "cell_type": "markdown",
   "metadata": {},
   "source": [
    "## Dudas"
   ]
  }
 ],
 "metadata": {
  "kernelspec": {
   "display_name": "Python 3",
   "language": "python",
   "name": "python3"
  },
  "language_info": {
   "codemirror_mode": {
    "name": "ipython",
    "version": 3
   },
   "file_extension": ".py",
   "mimetype": "text/x-python",
   "name": "python",
   "nbconvert_exporter": "python",
   "pygments_lexer": "ipython3",
   "version": "3.5.2"
  }
 },
 "nbformat": 4,
 "nbformat_minor": 0
}
